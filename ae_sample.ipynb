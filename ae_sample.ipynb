{
 "cells": [
  {
   "cell_type": "markdown",
   "id": "3ea80085-2b92-40e7-ba26-edf69c449526",
   "metadata": {},
   "source": [
    "In this notebook, we introduce how to train VAE to detect fraud\n",
    "### Load Data"
   ]
  },
  {
   "cell_type": "code",
   "execution_count": 1,
   "id": "837dc024-1ca6-4828-9a2b-1afd51c1d3c5",
   "metadata": {},
   "outputs": [
    {
     "name": "stderr",
     "output_type": "stream",
     "text": [
      "2023-07-05 13:06:38,747:3996(0x7f8be647c740):ZOO_INFO@log_env@753: Client environment:zookeeper.version=zookeeper C client 3.4.14\n",
      "2023-07-05 13:06:38,747:3996(0x7f8be647c740):ZOO_INFO@log_env@757: Client environment:host.name=cdd2a59992ee\n",
      "2023-07-05 13:06:38,747:3996(0x7f8be647c740):ZOO_INFO@log_env@764: Client environment:os.name=Linux\n",
      "2023-07-05 13:06:38,747:3996(0x7f8be647c740):ZOO_INFO@log_env@765: Client environment:os.arch=5.10.16.3-microsoft-standard-WSL2\n",
      "2023-07-05 13:06:38,747:3996(0x7f8be647c740):ZOO_INFO@log_env@766: Client environment:os.version=#1 SMP Fri Apr 2 22:23:49 UTC 2021\n",
      "2023-07-05 13:06:38,747:3996(0x7f8be647c740):ZOO_INFO@log_env@774: Client environment:user.name=(null)\n",
      "2023-07-05 13:06:38,747:3996(0x7f8be647c740):ZOO_INFO@log_env@782: Client environment:user.home=/root\n",
      "2023-07-05 13:06:38,747:3996(0x7f8be647c740):ZOO_INFO@log_env@794: Client environment:user.dir=/work/adops\n",
      "2023-07-05 13:06:38,747:3996(0x7f8be647c740):ZOO_INFO@zookeeper_init@827: Initiating client connection, host=127.0.0.1:2181 sessionTimeout=2000 watcher=0x7f8bafd186a0 sessionId=0 sessionPasswd=<null> context=0x255d6b0 flags=0\n",
      "2023-07-05 13:06:38,747:3996(0x7f8bbaffd700):ZOO_INFO@check_events@1764: initiated connection to server [127.0.0.1:2181]\n",
      "2023-07-05 13:06:38,750:3996(0x7f8bbaffd700):ZOO_INFO@check_events@1811: session establishment complete on server [127.0.0.1:2181], sessionId=0x1001eff8e21001b, negotiated timeout=4000\n",
      "I0705 13:06:38.750228  4015 zk_client.cc:564] zookeeper event with type -1, state 3, path \n",
      "I0705 13:06:38.750288  4015 zk_client.cc:579] connect success\n",
      "I0705 13:06:38.750317  3996 db_sdk.cc:216] init zk client with zk options [cluster:127.0.0.1:2181, path:/openmldb, zk_session_timeout:2000, log_level:3, log_file:] and session id 1\n",
      "I0705 13:06:38.754669  3996 client_manager.cc:483] add client. name localhost:10921, endpoint \n",
      "I0705 13:06:38.754705  3996 client_manager.cc:483] add client. name localhost:10922, endpoint \n",
      "I0705 13:06:38.756709  3996 db_sdk.cc:233] start to watch notify on table, function, ns leader, taskamanger leader\n",
      "I0705 13:06:38.757864  3996 db_sdk.cc:55] init ns client with endpoint localhost:7527 done\n",
      "I0705 13:06:38.761163  3996 default_udf_library.cc:49] Creating DefaultUdfLibrary\n"
     ]
    },
    {
     "data": {
      "text/plain": [
       "<ipykernel.zmqshell.ZMQInteractiveShell at 0x7f8be11980a0>"
      ]
     },
     "execution_count": 1,
     "metadata": {},
     "output_type": "execute_result"
    }
   ],
   "source": [
    "import openmldb\n",
    "db = openmldb.dbapi.connect(zk='127.0.0.1:2181',zkPath='/openmldb')\n",
    "openmldb.sql_magic.register(db)"
   ]
  },
  {
   "cell_type": "code",
   "execution_count": 2,
   "id": "472e6bfb-d26f-44f0-bf97-a35e8360481a",
   "metadata": {},
   "outputs": [
    {
     "name": "stdout",
     "output_type": "stream",
     "text": [
      "   is_attribute  app  device  os  channel  hour  day  qty  ip_app_count  \\\n",
      "0             0    9       1  13      244     0    8    1             1   \n",
      "1             0   11       1  22      319     9    7    1             1   \n",
      "2             0   12       1  19      140    15    7    1             1   \n",
      "3             0   18       1  13      107    19    8    1             1   \n",
      "4             0    3       1  23      417    19    7    1             1   \n",
      "5             0   12       1  20      259    18    8    1             1   \n",
      "6             0    3       1  19      182    15    9    1             1   \n",
      "7             0   21       1  19      128    16    9    1             1   \n",
      "8             0    7       1  13      101    23    9    1             1   \n",
      "9             0    3       1  20      280     9    9    1             1   \n",
      "\n",
      "   ip_app_os_count  \n",
      "0                1  \n",
      "1                1  \n",
      "2                1  \n",
      "3                1  \n",
      "4                1  \n",
      "5                1  \n",
      "6                1  \n",
      "7                1  \n",
      "8                1  \n",
      "9                1  \n"
     ]
    },
    {
     "name": "stderr",
     "output_type": "stream",
     "text": [
      "/usr/local/lib/python3.9/dist-packages/xgboost/compat.py:31: FutureWarning: pandas.Int64Index is deprecated and will be removed from pandas in a future version. Use pandas.Index with the appropriate dtype instead.\n",
      "  from pandas import MultiIndex, Int64Index\n"
     ]
    }
   ],
   "source": [
    "import utils\n",
    "train_feature_dir='/tmp/train_feature'\n",
    "datadf = utils.read_dataset(f'{train_feature_dir}/*.csv')\n",
    "print(datadf.head(10))"
   ]
  },
  {
   "cell_type": "code",
   "execution_count": 3,
   "id": "2df20a16-7596-48d0-bd42-e00a52ca1e3f",
   "metadata": {},
   "outputs": [
    {
     "name": "stderr",
     "output_type": "stream",
     "text": [
      "2023-07-05 13:06:39.512505: W tensorflow/stream_executor/platform/default/dso_loader.cc:64] Could not load dynamic library 'libcudart.so.11.0'; dlerror: libcudart.so.11.0: cannot open shared object file: No such file or directory\n",
      "2023-07-05 13:06:39.512547: I tensorflow/stream_executor/cuda/cudart_stub.cc:29] Ignore above cudart dlerror if you do not have a GPU set up on your machine.\n"
     ]
    }
   ],
   "source": [
    "from keras.models import Model, load_model\n",
    "from keras.layers import Input, Dense,LeakyReLU,BatchNormalization\n",
    "from keras.callbacks import ModelCheckpoint\n",
    "from keras import regularizers"
   ]
  },
  {
   "cell_type": "code",
   "execution_count": 4,
   "id": "8e81c4c9-e713-4181-a70b-1735a4ec5f2e",
   "metadata": {},
   "outputs": [],
   "source": [
    "X = datadf.drop(['is_attribute'], axis=1)\n",
    "Y = datadf.is_attribute\n",
    "input_dim    = X.shape[1]\n",
    "encoding_dim = 128\n",
    "num_epoch    = 30\n",
    "batch_size   = 256"
   ]
  },
  {
   "cell_type": "code",
   "execution_count": 6,
   "id": "28b67913-6d05-4254-8a57-ad88741c8737",
   "metadata": {},
   "outputs": [
    {
     "name": "stdout",
     "output_type": "stream",
     "text": [
      "Epoch 1/30\n"
     ]
    },
    {
     "name": "stderr",
     "output_type": "stream",
     "text": [
      "2023-07-05 13:07:17.988021: W tensorflow/stream_executor/platform/default/dso_loader.cc:64] Could not load dynamic library 'libcuda.so.1'; dlerror: libcuda.so.1: cannot open shared object file: No such file or directory\n",
      "2023-07-05 13:07:17.988062: W tensorflow/stream_executor/cuda/cuda_driver.cc:269] failed call to cuInit: UNKNOWN ERROR (303)\n",
      "2023-07-05 13:07:17.988079: I tensorflow/stream_executor/cuda/cuda_diagnostics.cc:156] kernel driver does not appear to be running on this host (cdd2a59992ee): /proc/driver/nvidia/version does not exist\n",
      "2023-07-05 13:07:17.988225: I tensorflow/core/platform/cpu_feature_guard.cc:151] This TensorFlow binary is optimized with oneAPI Deep Neural Network Library (oneDNN) to use the following CPU instructions in performance-critical operations:  AVX2 FMA\n",
      "To enable them in other operations, rebuild TensorFlow with the appropriate compiler flags.\n"
     ]
    },
    {
     "name": "stdout",
     "output_type": "stream",
     "text": [
      "380/391 [============================>.] - ETA: 0s - loss: 16748.6816 - mae: 36.3821 - mse: 16748.6641WARNING:tensorflow:Can save best model only with val_loss available, skipping.\n",
      "391/391 [==============================] - 2s 4ms/step - loss: 16631.4980 - mae: 36.2964 - mse: 16631.4824\n",
      "Epoch 2/30\n",
      "390/391 [============================>.] - ETA: 0s - loss: 12527.8389 - mae: 30.4531 - mse: 12527.8271WARNING:tensorflow:Can save best model only with val_loss available, skipping.\n",
      "391/391 [==============================] - 1s 3ms/step - loss: 12524.4258 - mae: 30.4458 - mse: 12524.4150\n",
      "Epoch 3/30\n",
      "389/391 [============================>.] - ETA: 0s - loss: 7779.7202 - mae: 22.9425 - mse: 7779.7129WARNING:tensorflow:Can save best model only with val_loss available, skipping.\n",
      "391/391 [==============================] - 1s 3ms/step - loss: 7763.9531 - mae: 22.9215 - mse: 7763.9458\n",
      "Epoch 4/30\n",
      "380/391 [============================>.] - ETA: 0s - loss: 4795.0527 - mae: 16.0715 - mse: 4795.0425WARNING:tensorflow:Can save best model only with val_loss available, skipping.\n",
      "391/391 [==============================] - 1s 4ms/step - loss: 4764.7900 - mae: 15.9934 - mse: 4764.7793\n",
      "Epoch 5/30\n",
      "378/391 [============================>.] - ETA: 0s - loss: 3034.4023 - mae: 11.1097 - mse: 3034.3906WARNING:tensorflow:Can save best model only with val_loss available, skipping.\n",
      "391/391 [==============================] - 1s 3ms/step - loss: 3026.2671 - mae: 11.0765 - mse: 3026.2556\n",
      "Epoch 6/30\n",
      "376/391 [===========================>..] - ETA: 0s - loss: 1940.9940 - mae: 8.4651 - mse: 1940.9819WARNING:tensorflow:Can save best model only with val_loss available, skipping.\n",
      "391/391 [==============================] - 1s 3ms/step - loss: 1897.5980 - mae: 8.4069 - mse: 1897.5858\n",
      "Epoch 7/30\n",
      "382/391 [============================>.] - ETA: 0s - loss: 1227.3074 - mae: 7.0589 - mse: 1227.2955WARNING:tensorflow:Can save best model only with val_loss available, skipping.\n",
      "391/391 [==============================] - 1s 3ms/step - loss: 1216.2369 - mae: 7.0488 - mse: 1216.2251\n",
      "Epoch 8/30\n",
      "391/391 [==============================] - ETA: 0s - loss: 806.0587 - mae: 6.3107 - mse: 806.0458WARNING:tensorflow:Can save best model only with val_loss available, skipping.\n",
      "391/391 [==============================] - 1s 3ms/step - loss: 806.0587 - mae: 6.3107 - mse: 806.0458\n",
      "Epoch 9/30\n",
      "387/391 [============================>.] - ETA: 0s - loss: 614.4761 - mae: 5.8869 - mse: 614.4636WARNING:tensorflow:Can save best model only with val_loss available, skipping.\n",
      "391/391 [==============================] - 1s 3ms/step - loss: 611.1533 - mae: 5.8786 - mse: 611.1407\n",
      "Epoch 10/30\n",
      "389/391 [============================>.] - ETA: 0s - loss: 568.1986 - mae: 5.8947 - mse: 568.1857WARNING:tensorflow:Can save best model only with val_loss available, skipping.\n",
      "391/391 [==============================] - 1s 3ms/step - loss: 567.1410 - mae: 5.8935 - mse: 567.1281\n",
      "Epoch 11/30\n",
      "381/391 [============================>.] - ETA: 0s - loss: 453.0902 - mae: 5.9408 - mse: 453.0776WARNING:tensorflow:Can save best model only with val_loss available, skipping.\n",
      "391/391 [==============================] - 1s 4ms/step - loss: 449.8000 - mae: 5.9359 - mse: 449.7873\n",
      "Epoch 12/30\n",
      "388/391 [============================>.] - ETA: 0s - loss: 374.9763 - mae: 5.5726 - mse: 374.9636WARNING:tensorflow:Can save best model only with val_loss available, skipping.\n",
      "391/391 [==============================] - 1s 3ms/step - loss: 373.0936 - mae: 5.5663 - mse: 373.0809\n",
      "Epoch 13/30\n",
      "384/391 [============================>.] - ETA: 0s - loss: 341.9590 - mae: 5.5311 - mse: 341.9460WARNING:tensorflow:Can save best model only with val_loss available, skipping.\n",
      "391/391 [==============================] - 1s 3ms/step - loss: 339.7886 - mae: 5.5336 - mse: 339.7756\n",
      "Epoch 14/30\n",
      "387/391 [============================>.] - ETA: 0s - loss: 282.5114 - mae: 5.2876 - mse: 282.4990WARNING:tensorflow:Can save best model only with val_loss available, skipping.\n",
      "391/391 [==============================] - 1s 3ms/step - loss: 283.4132 - mae: 5.2910 - mse: 283.4008\n",
      "Epoch 15/30\n",
      "383/391 [============================>.] - ETA: 0s - loss: 276.7235 - mae: 5.2602 - mse: 276.7109WARNING:tensorflow:Can save best model only with val_loss available, skipping.\n",
      "391/391 [==============================] - 1s 4ms/step - loss: 281.5083 - mae: 5.2705 - mse: 281.4957\n",
      "Epoch 16/30\n",
      "387/391 [============================>.] - ETA: 0s - loss: 271.9772 - mae: 5.3104 - mse: 271.9642WARNING:tensorflow:Can save best model only with val_loss available, skipping.\n",
      "391/391 [==============================] - 1s 3ms/step - loss: 273.7646 - mae: 5.3207 - mse: 273.7515\n",
      "Epoch 17/30\n",
      "389/391 [============================>.] - ETA: 0s - loss: 270.0376 - mae: 5.3232 - mse: 270.0251WARNING:tensorflow:Can save best model only with val_loss available, skipping.\n",
      "391/391 [==============================] - 1s 3ms/step - loss: 269.5965 - mae: 5.3256 - mse: 269.5840\n",
      "Epoch 18/30\n",
      "391/391 [==============================] - ETA: 0s - loss: 242.7329 - mae: 5.1054 - mse: 242.7203WARNING:tensorflow:Can save best model only with val_loss available, skipping.\n",
      "391/391 [==============================] - 1s 3ms/step - loss: 242.7329 - mae: 5.1054 - mse: 242.7203\n",
      "Epoch 19/30\n",
      "390/391 [============================>.] - ETA: 0s - loss: 227.0991 - mae: 4.9327 - mse: 227.0865WARNING:tensorflow:Can save best model only with val_loss available, skipping.\n",
      "391/391 [==============================] - 1s 3ms/step - loss: 226.9312 - mae: 4.9350 - mse: 226.9186\n",
      "Epoch 20/30\n",
      "391/391 [==============================] - ETA: 0s - loss: 223.5944 - mae: 4.8818 - mse: 223.5817WARNING:tensorflow:Can save best model only with val_loss available, skipping.\n",
      "391/391 [==============================] - 1s 4ms/step - loss: 223.5944 - mae: 4.8818 - mse: 223.5817\n",
      "Epoch 21/30\n",
      "383/391 [============================>.] - ETA: 0s - loss: 235.8106 - mae: 4.9768 - mse: 235.7980WARNING:tensorflow:Can save best model only with val_loss available, skipping.\n",
      "391/391 [==============================] - 1s 4ms/step - loss: 236.6280 - mae: 4.9694 - mse: 236.6154\n",
      "Epoch 22/30\n",
      "384/391 [============================>.] - ETA: 0s - loss: 220.0798 - mae: 4.7931 - mse: 220.0670WARNING:tensorflow:Can save best model only with val_loss available, skipping.\n",
      "391/391 [==============================] - 1s 3ms/step - loss: 221.2697 - mae: 4.7981 - mse: 221.2568\n",
      "Epoch 23/30\n",
      "380/391 [============================>.] - ETA: 0s - loss: 226.8584 - mae: 4.8223 - mse: 226.8456WARNING:tensorflow:Can save best model only with val_loss available, skipping.\n",
      "391/391 [==============================] - 1s 4ms/step - loss: 226.1075 - mae: 4.8202 - mse: 226.0948\n",
      "Epoch 24/30\n",
      "385/391 [============================>.] - ETA: 0s - loss: 198.1570 - mae: 4.5809 - mse: 198.1443WARNING:tensorflow:Can save best model only with val_loss available, skipping.\n",
      "391/391 [==============================] - 1s 3ms/step - loss: 197.0382 - mae: 4.5717 - mse: 197.0255\n",
      "Epoch 25/30\n",
      "382/391 [============================>.] - ETA: 0s - loss: 207.4787 - mae: 4.6708 - mse: 207.4657WARNING:tensorflow:Can save best model only with val_loss available, skipping.\n",
      "391/391 [==============================] - 1s 4ms/step - loss: 206.4567 - mae: 4.6627 - mse: 206.4438\n",
      "Epoch 26/30\n",
      "377/391 [===========================>..] - ETA: 0s - loss: 199.7198 - mae: 4.6420 - mse: 199.7070WARNING:tensorflow:Can save best model only with val_loss available, skipping.\n",
      "391/391 [==============================] - 1s 4ms/step - loss: 200.5094 - mae: 4.6569 - mse: 200.4965\n",
      "Epoch 27/30\n",
      "381/391 [============================>.] - ETA: 0s - loss: 195.0234 - mae: 4.5911 - mse: 195.0106WARNING:tensorflow:Can save best model only with val_loss available, skipping.\n",
      "391/391 [==============================] - 1s 4ms/step - loss: 193.9693 - mae: 4.5952 - mse: 193.9566\n",
      "Epoch 28/30\n",
      "390/391 [============================>.] - ETA: 0s - loss: 181.6835 - mae: 4.4875 - mse: 181.6709WARNING:tensorflow:Can save best model only with val_loss available, skipping.\n",
      "391/391 [==============================] - 1s 4ms/step - loss: 181.5407 - mae: 4.4879 - mse: 181.5280\n",
      "Epoch 29/30\n",
      "379/391 [============================>.] - ETA: 0s - loss: 181.8061 - mae: 4.4521 - mse: 181.7934WARNING:tensorflow:Can save best model only with val_loss available, skipping.\n",
      "391/391 [==============================] - 1s 4ms/step - loss: 184.5484 - mae: 4.4616 - mse: 184.5357\n",
      "Epoch 30/30\n",
      "385/391 [============================>.] - ETA: 0s - loss: 188.6681 - mae: 4.3986 - mse: 188.6554WARNING:tensorflow:Can save best model only with val_loss available, skipping.\n",
      "391/391 [==============================] - 1s 4ms/step - loss: 189.7207 - mae: 4.4109 - mse: 189.7080\n"
     ]
    }
   ],
   "source": [
    "input_layer = Input(shape=(input_dim, ))\n",
    "\n",
    "encoder = Dense(encoding_dim, activation=\"tanh\", activity_regularizer=regularizers.l1(10e-5))(input_layer)\n",
    "encoder =BatchNormalization()(encoder)\n",
    "encoder=LeakyReLU(alpha=0.2)(encoder)\n",
    "\n",
    "encoder = Dense(int(encoding_dim/2), activation=\"relu\")(encoder)\n",
    "encoder =BatchNormalization()(encoder)\n",
    "encoder=LeakyReLU(alpha=0.1)(encoder)\n",
    "\n",
    "encoder = Dense(int(encoding_dim/4), activation=\"relu\")(encoder)\n",
    "encoder =BatchNormalization()(encoder)\n",
    "\n",
    "\n",
    "\n",
    "### decoder\n",
    "decoder = LeakyReLU(alpha=0.1)(encoder)\n",
    "decoder = Dense(int(encoding_dim/4),activation='tanh')(decoder)\n",
    "decoder = BatchNormalization()(decoder)\n",
    "decoder = LeakyReLU(alpha=0.1)(decoder)\n",
    "\n",
    "\n",
    "decoder = Dense(int(encoding_dim/2), activation='tanh')(decoder)\n",
    "decoder = BatchNormalization()(decoder)\n",
    "decoder = LeakyReLU(alpha=0.1)(decoder)\n",
    "\n",
    "decoder = Dense(input_dim)(decoder)\n",
    "\n",
    "autoencoder = Model(inputs = input_layer, outputs = decoder)\n",
    "autoencoder.compile(optimizer='adam', loss='mean_squared_error', metrics=['mae','mse'])\n",
    "\n",
    "checkpointer = ModelCheckpoint(filepath=\"autoencoder.h5\", verbose=0, save_best_only=True)\n",
    "history = autoencoder.fit(X, \n",
    "                          X,\n",
    "                          epochs=num_epoch,\n",
    "                          batch_size=batch_size,\n",
    "                          shuffle=True,\n",
    "                          #validation_data=(X_test, X_test),\n",
    "                          verbose=1, \n",
    "                          callbacks=[checkpointer]\n",
    "                          ).history\n",
    "autoencoder.save(\"/work/adops/saved_models/ae.h5\")"
   ]
  },
  {
   "cell_type": "code",
   "execution_count": 7,
   "id": "0d08eb20-4456-4bad-94ed-115af1ce2baf",
   "metadata": {},
   "outputs": [],
   "source": [
    "import numpy as np\n",
    "pred_X  = autoencoder.predict(X)\n",
    "mse_X = np.mean(np.power(X-pred_X,2), axis=1)\n",
    "mae_X = np.mean(np.abs(X-pred_X), axis=1)\n",
    "datadf['mse_X'] = mse_X\n",
    "datadf['mae_X'] = mae_X"
   ]
  },
  {
   "cell_type": "code",
   "execution_count": 8,
   "id": "a2de23ef-80ba-4f22-a855-519174348902",
   "metadata": {},
   "outputs": [
    {
     "name": "stdout",
     "output_type": "stream",
     "text": [
      "Top1000的准确率为:0.988\n"
     ]
    },
    {
     "name": "stderr",
     "output_type": "stream",
     "text": [
      "I0706 12:05:03.158010  4015 zk_client.cc:58] node watcher with event type 3, state 3\n",
      "I0706 12:05:03.394479  4015 zk_client.cc:58] node watcher with event type 3, state 3\n"
     ]
    }
   ],
   "source": [
    "n = 1000\n",
    "df =  datadf.sort_values(by='mae_X',ascending=False)\n",
    "df = df.head(n)\n",
    "rate = df[df['is_attribute']==1].shape[0]/n\n",
    "print('Top{}的准确率为:{}'.format(n,1-rate))"
   ]
  },
  {
   "cell_type": "code",
   "execution_count": null,
   "id": "50c2ff64-9b07-4846-8a1b-f809854a21c4",
   "metadata": {},
   "outputs": [],
   "source": []
  }
 ],
 "metadata": {
  "kernelspec": {
   "display_name": "Python 3 (ipykernel)",
   "language": "python",
   "name": "python3"
  },
  "language_info": {
   "codemirror_mode": {
    "name": "ipython",
    "version": 3
   },
   "file_extension": ".py",
   "mimetype": "text/x-python",
   "name": "python",
   "nbconvert_exporter": "python",
   "pygments_lexer": "ipython3",
   "version": "3.9.2"
  }
 },
 "nbformat": 4,
 "nbformat_minor": 5
}
