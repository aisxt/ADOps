{
 "cells": [
  {
   "cell_type": "code",
   "execution_count": 1,
   "id": "60ead212-bc22-4b5f-a8f8-8be14fc595a6",
   "metadata": {},
   "outputs": [],
   "source": [
    "import os\n",
    "import json\n",
    "import sys\n",
    "import csv\n",
    "import pandas as pd\n",
    "from queue import Queue\n",
    "\n",
    "import datetime\n",
    "from kafka import KafkaProducer, KafkaConsumer\n",
    "from dask.distributed import Client, LocalCluster"
   ]
  },
  {
   "cell_type": "code",
   "execution_count": 2,
   "id": "fb1a302e-ffe3-412e-8b88-fe2b718b2eb2",
   "metadata": {},
   "outputs": [
    {
     "data": {
      "text/plain": [
       "{'server': '0f6b1f65',\n",
       " 'role_id': '31c8bbed',\n",
       " 'srctype': 7,\n",
       " 'delta': 50,\n",
       " 'minute': '2023-03-01 00:00',\n",
       " 'ds': '2023-03-01'}"
      ]
     },
     "execution_count": 2,
     "metadata": {},
     "output_type": "execute_result"
    }
   ],
   "source": [
    "df = pd.read_csv(\n",
    "    \"../data/currency_encode.csv\", header=0, quotechar='\"', quoting=csv.QUOTE_ALL, sep=\",\"\n",
    ")\n",
    "df.sort_values(by=['minute'], inplace=True)\n",
    "input = df.to_dict('records')\n",
    "input[0]"
   ]
  },
  {
   "cell_type": "code",
   "execution_count": 4,
   "id": "5efe7dd3-c1cb-4b73-b77f-eed786bb0e73",
   "metadata": {},
   "outputs": [],
   "source": [
    "producer = KafkaProducer(\n",
    "    value_serializer=lambda v: json.dumps(v).encode('utf-8'),\n",
    "    bootstrap_servers=[\"localhost:9092\"]\n",
    " )\n",
    "\n",
    "for i in range(10):\n",
    "    producer.send('adops', input[i])"
   ]
  },
  {
   "cell_type": "code",
   "execution_count": null,
   "id": "77e3d14a-a92f-4d14-b01a-bdd5836c2b00",
   "metadata": {},
   "outputs": [],
   "source": []
  }
 ],
 "metadata": {
  "kernelspec": {
   "display_name": "Python 3 (ipykernel)",
   "language": "python",
   "name": "python3"
  },
  "language_info": {
   "codemirror_mode": {
    "name": "ipython",
    "version": 3
   },
   "file_extension": ".py",
   "mimetype": "text/x-python",
   "name": "python",
   "nbconvert_exporter": "python",
   "pygments_lexer": "ipython3",
   "version": "3.9.2"
  }
 },
 "nbformat": 4,
 "nbformat_minor": 5
}
