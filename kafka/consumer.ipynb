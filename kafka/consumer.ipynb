{
 "cells": [
  {
   "cell_type": "code",
   "execution_count": 1,
   "id": "ecd2861e-b42c-4397-bcbc-ed446712a3aa",
   "metadata": {},
   "outputs": [],
   "source": [
    "import os\n",
    "import json\n",
    "import sys\n",
    "import csv\n",
    "import pandas as pd\n",
    "from queue import Queue\n",
    "\n",
    "import time\n",
    "import datetime\n",
    "from kafka import KafkaProducer, KafkaConsumer\n",
    "from dask.distributed import Client, LocalCluster"
   ]
  },
  {
   "cell_type": "code",
   "execution_count": 2,
   "id": "e4b99ead-665d-4214-8427-38b2895558e9",
   "metadata": {},
   "outputs": [
    {
     "data": {
      "text/plain": [
       "'Lhdgt71lQqWHFIYfN5gXTg\\n'"
      ]
     },
     "execution_count": 2,
     "metadata": {},
     "output_type": "execute_result"
    }
   ],
   "source": [
    "with open(\"./client_id\") as f:\n",
    "    client_id = f.read()\n",
    "client_id"
   ]
  },
  {
   "cell_type": "code",
   "execution_count": null,
   "id": "da305dec-8d5a-46d6-bcc8-f65423016163",
   "metadata": {
    "tags": []
   },
   "outputs": [
    {
     "name": "stdout",
     "output_type": "stream",
     "text": [
      "{'server': '0f6b1f65', 'role_id': '31c8bbed', 'srctype': 7, 'delta': 50, 'minute': '2023-03-01 00:00', 'ds': '2023-03-01'} <class 'dict'>\n",
      "{'server': '08d562c1', 'role_id': 'ecd657bd', 'srctype': 370, 'delta': 60, 'minute': '2023-03-01 00:00', 'ds': '2023-03-01'} <class 'dict'>\n",
      "{'server': '0f6b1f65', 'role_id': '73c6177a', 'srctype': 148, 'delta': 10, 'minute': '2023-03-01 00:00', 'ds': '2023-03-01'} <class 'dict'>\n",
      "{'server': '670eca4a', 'role_id': '8ef8e85b', 'srctype': 377, 'delta': 50, 'minute': '2023-03-01 00:00', 'ds': '2023-03-01'} <class 'dict'>\n",
      "{'server': 'c63a5650', 'role_id': '8edbe184', 'srctype': 31, 'delta': 5, 'minute': '2023-03-01 00:00', 'ds': '2023-03-01'} <class 'dict'>\n",
      "{'server': '2a800952', 'role_id': '34d1273e', 'srctype': 31, 'delta': 30, 'minute': '2023-03-01 00:00', 'ds': '2023-03-01'} <class 'dict'>\n",
      "{'server': 'd783823c', 'role_id': '38fcfa35', 'srctype': 7, 'delta': 20, 'minute': '2023-03-01 00:00', 'ds': '2023-03-01'} <class 'dict'>\n",
      "{'server': '08d562c1', 'role_id': 'ecd657bd', 'srctype': 31, 'delta': 65, 'minute': '2023-03-01 00:00', 'ds': '2023-03-01'} <class 'dict'>\n",
      "{'server': '9103c8c8', 'role_id': 'fb29387c', 'srctype': 7, 'delta': 20, 'minute': '2023-03-01 00:00', 'ds': '2023-03-01'} <class 'dict'>\n",
      "{'server': 'ce9a6fb2', 'role_id': 'e5eb52c5', 'srctype': 31, 'delta': 50, 'minute': '2023-03-01 00:00', 'ds': '2023-03-01'} <class 'dict'>\n"
     ]
    }
   ],
   "source": [
    "consumer = KafkaConsumer(\n",
    "    'adops',\n",
    "    group_id=f\"adops_{int(time.time())}\",\n",
    "    bootstrap_servers=[\"localhost:9092\"],\n",
    "    client_id=client_id,\n",
    "    value_deserializer=json.loads\n",
    ")\n",
    "for message in consumer:\n",
    "    print(message.value, type(message.value))"
   ]
  },
  {
   "cell_type": "code",
   "execution_count": null,
   "id": "f67ff3c0-22dd-4f3b-bc5e-980a1c27f38f",
   "metadata": {},
   "outputs": [],
   "source": []
  }
 ],
 "metadata": {
  "kernelspec": {
   "display_name": "Python 3 (ipykernel)",
   "language": "python",
   "name": "python3"
  },
  "language_info": {
   "codemirror_mode": {
    "name": "ipython",
    "version": 3
   },
   "file_extension": ".py",
   "mimetype": "text/x-python",
   "name": "python",
   "nbconvert_exporter": "python",
   "pygments_lexer": "ipython3",
   "version": "3.9.2"
  }
 },
 "nbformat": 4,
 "nbformat_minor": 5
}
