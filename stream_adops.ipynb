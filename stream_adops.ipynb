{
 "cells": [
  {
   "cell_type": "markdown",
   "id": "337b7ae6-b2b7-4081-94d0-b388d366a49f",
   "metadata": {},
   "source": [
    "## Kylin and AD Setting\n",
    "User interaction with kylin precomputation, anomaly detection configuration"
   ]
  },
  {
   "cell_type": "code",
   "execution_count": 1,
   "id": "02f328fd-a5d4-4106-a7aa-bb0ae28cfa3a",
   "metadata": {},
   "outputs": [],
   "source": [
    "import requests\n",
    "import json\n",
    "import os\n",
    "\n",
    "base_url = \"http://localhost:5000\"\n",
    "headers = {'Content-Type': 'application/json'}\n",
    "projectName = \"adops\""
   ]
  },
  {
   "cell_type": "markdown",
   "id": "bf0001d4-d162-4a43-a731-50dde2549180",
   "metadata": {},
   "source": [
    "## CUBES\n",
    "list cubes of current kylin project"
   ]
  },
  {
   "cell_type": "code",
   "execution_count": 2,
   "id": "8aaa9184-9d4f-4f49-8261-85a2a270d44d",
   "metadata": {},
   "outputs": [
    {
     "data": {
      "text/plain": [
       "{'CURRENCY': [['2023-03-01 00:00:00', '2023-03-03 00:00:00']]}"
      ]
     },
     "execution_count": 2,
     "metadata": {},
     "output_type": "execute_result"
    }
   ],
   "source": [
    "url = base_url + f\"/kylin/api/cubes?projectName={projectName}\"\n",
    "response = requests.request(\"GET\", url, headers=headers)\n",
    "cubes = json.loads(response.text)\n",
    "cubes"
   ]
  },
  {
   "cell_type": "markdown",
   "id": "6e07a5e2-8a10-4644-9f7d-174a4b309d5d",
   "metadata": {},
   "source": [
    "## Cube Descriptor\n",
    "dimensions and measures"
   ]
  },
  {
   "cell_type": "code",
   "execution_count": 3,
   "id": "2b822931-615f-438b-8e17-c3d41ddbc170",
   "metadata": {},
   "outputs": [
    {
     "data": {
      "text/plain": [
       "'{\"dimensions\": [\"SERVER\", \"ROLE_ID\", \"SRCTYPE\", \"MINUTE\", \"DS\"], \"measures\": [\"DELTA\"]}'"
      ]
     },
     "execution_count": 3,
     "metadata": {},
     "output_type": "execute_result"
    }
   ],
   "source": [
    "logid = \"currency\"\n",
    "url = base_url + f\"/kylin/api/cube_desc?projectName={projectName}&logid={logid}\"\n",
    "response = requests.request(\"GET\", url, headers=headers)\n",
    "cube_descri = response.text\n",
    "cube_descri"
   ]
  },
  {
   "cell_type": "markdown",
   "id": "80f2d2e7-547c-4ac3-a799-4096ac41bb82",
   "metadata": {},
   "source": [
    "## Cube Col\n",
    "Possible values for the field"
   ]
  },
  {
   "cell_type": "code",
   "execution_count": 4,
   "id": "26603e81-af5f-408e-8f7c-ce2485478163",
   "metadata": {},
   "outputs": [
    {
     "name": "stdout",
     "output_type": "stream",
     "text": [
      "{\"results\": [[2], [3], [4], [7], [10], [14], [31], [40], [43], [44], [58], [65], [69], [91], [113], [117], [118], [120], [121], [125], [127], [148], [152], [153], [169], [181], [207], [221], [222], [223], [224], [239], [251], [255], [262], [264], [272], [275], [285], [286], [303], [313], [336], [349], [365], [367], [370], [371], [377], [386], [393], [404], [410], [418], [419], [422], [437], [438], [439], [440]], \"columns\": [[\"srctype\", \"integer\"]]}\n"
     ]
    }
   ],
   "source": [
    "colName = \"SRCTYPE\"\n",
    "url = base_url + f\"/kylin/api/cube_enum?projectName={projectName}&logid={logid}&colName={colName}\"\n",
    "response = requests.request(\"GET\", url, headers=headers)\n",
    "print(response.text)"
   ]
  },
  {
   "cell_type": "markdown",
   "id": "916eb79c-4ff7-4eff-8342-5d340a4a799f",
   "metadata": {
    "tags": []
   },
   "source": [
    "## Stream Kylin Recomd\n",
    "\n",
    "- montior: field\n",
    "- auxiliary_field: Auxiliary fields to locate the cause of the exception\n",
    "- ts_thd: time window (minute)\n",
    "- filter: just like sql where"
   ]
  },
  {
   "cell_type": "code",
   "execution_count": 5,
   "id": "cb8e3222-dd27-414d-8023-6f24b00a1eb3",
   "metadata": {
    "tags": []
   },
   "outputs": [
    {
     "data": {
      "text/plain": [
       "{'results': [[6110.000271435501]], 'columns': [['kylin_recomd', 'float']]}"
      ]
     },
     "execution_count": 5,
     "metadata": {},
     "output_type": "execute_result"
    }
   ],
   "source": [
    "url = base_url + \"/kylin/api/kylin_recomd/stream\"\n",
    "payload = json.dumps({\n",
    "   \"projectName\": projectName,\n",
    "   \"logid\": logid,\n",
    "   \"montior\": \"DELTA\",\n",
    "   \"auxiliary_field\": [\n",
    "       \"SERVER\",\n",
    "       \"ROLE_ID\",\n",
    "       \"SRCTYPE\",\n",
    "       \"MINUTE\",\n",
    "       \"DS\"\n",
    "   ],\n",
    "   \"ts_thd\": 10,\n",
    "   \"aggregation\": \"sum\",\n",
    "   \"op\": \"greater\",\n",
    "   \"filter\": [\n",
    "      [\n",
    "           \"srctype\",\n",
    "           \"=\",\n",
    "           \"14\"\n",
    "       ]\n",
    "   ],\n",
    "   \"name\": \"stream monitoring\"\n",
    "})\n",
    "response = requests.request(\"POST\", url, headers=headers, data=payload)\n",
    "kylin_recomd = json.loads(response.text)\n",
    "kylin_recomd"
   ]
  },
  {
   "cell_type": "markdown",
   "id": "3382fbe7-79ca-44f0-ad67-e3a85bc511d1",
   "metadata": {
    "tags": []
   },
   "source": [
    "## Stream Setting Save"
   ]
  },
  {
   "cell_type": "code",
   "execution_count": 6,
   "id": "7c2095f2-1ed6-41ce-93d6-c7dfb17afcb0",
   "metadata": {
    "tags": []
   },
   "outputs": [
    {
     "name": "stdout",
     "output_type": "stream",
     "text": [
      "{\"id\": 1, \"mode\": \"stream\", \"alias\": \"dask_currency_DELTA_6110\", \"setting\": {\"projectName\": \"adops\", \"logid\": \"currency\", \"montior\": \"DELTA\", \"auxiliary_field\": [\"SERVER\", \"ROLE_ID\", \"SRCTYPE\", \"MINUTE\", \"DS\"], \"ts_thd\": 10, \"value_thd\": 6110, \"aggregation\": \"sum\", \"op\": \"greater\", \"filter\": [[\"srctype\", \"=\", \"14\"]], \"name\": \"stream monitoring\"}, \"create_time\": \"2023-03-24 13:40:06\", \"update_time\": null, \"online_time\": null}\n"
     ]
    }
   ],
   "source": [
    "url = base_url + \"/kylin/api/ad_setting/stream\"\n",
    "payload = json.dumps({\n",
    "   \"projectName\": projectName,\n",
    "   \"logid\": logid,\n",
    "   \"montior\": \"DELTA\",\n",
    "   \"auxiliary_field\": [\n",
    "       \"SERVER\",\n",
    "       \"ROLE_ID\",\n",
    "       \"SRCTYPE\",\n",
    "       \"MINUTE\",\n",
    "       \"DS\"\n",
    "   ],\n",
    "   \"ts_thd\": 10,\n",
    "   \"value_thd\": 6110,\n",
    "   \"aggregation\": \"sum\",\n",
    "   \"op\": \"greater\",\n",
    "   \"filter\": [\n",
    "      [\n",
    "           \"srctype\",\n",
    "           \"=\",\n",
    "           \"14\"\n",
    "       ]\n",
    "   ],\n",
    "   \"name\": \"stream monitoring\"\n",
    "})\n",
    "response = requests.request(\"POST\", url, headers=headers, data=payload)\n",
    "print(response.text)"
   ]
  },
  {
   "cell_type": "markdown",
   "id": "a3b5e8c5-67cf-4f5a-a012-c741fea1265f",
   "metadata": {},
   "source": [
    "## Setting Project\n",
    "settings of current project"
   ]
  },
  {
   "cell_type": "code",
   "execution_count": 7,
   "id": "ad38f08a-279b-4ab1-ac40-30dbdbefa5cf",
   "metadata": {},
   "outputs": [
    {
     "name": "stdout",
     "output_type": "stream",
     "text": [
      "[{\"id\": 1, \"mode\": \"stream\", \"alias\": \"dask_currency_DELTA_6110\", \"setting\": {\"op\": \"greater\", \"name\": \"stream monitoring\", \"logid\": \"currency\", \"filter\": [[\"srctype\", \"=\", \"14\"]], \"ts_thd\": 10, \"montior\": \"DELTA\", \"value_thd\": 6110, \"aggregation\": \"sum\", \"projectName\": \"adops\", \"auxiliary_field\": [\"SERVER\", \"ROLE_ID\", \"SRCTYPE\", \"MINUTE\", \"DS\"]}, \"create_time\": \"2023-03-24T13:40:06\", \"update_time\": null, \"online_time\": null}]\n"
     ]
    }
   ],
   "source": [
    "url = base_url + f\"/kylin/api/ad_setting?projectName={projectName}\"\n",
    "response = requests.request(\"GET\", url, headers=headers)\n",
    "print(response.text)"
   ]
  },
  {
   "cell_type": "markdown",
   "id": "b9f56727-a3f0-4565-8faa-04d548d2d0f1",
   "metadata": {},
   "source": [
    "## Get SettingID\n",
    "infos of SettingID"
   ]
  },
  {
   "cell_type": "code",
   "execution_count": 9,
   "id": "2684a398-25ce-41b8-89bf-b120226c00dc",
   "metadata": {},
   "outputs": [
    {
     "name": "stdout",
     "output_type": "stream",
     "text": [
      "{\"id\": 1, \"mode\": \"stream\", \"alias\": \"dask_currency_DELTA_6110\", \"setting\": {\"op\": \"greater\", \"name\": \"stream monitoring\", \"logid\": \"currency\", \"filter\": [[\"srctype\", \"=\", \"14\"]], \"ts_thd\": 10, \"montior\": \"DELTA\", \"value_thd\": 6110, \"aggregation\": \"sum\", \"projectName\": \"adops\", \"auxiliary_field\": [\"SERVER\", \"ROLE_ID\", \"SRCTYPE\", \"MINUTE\", \"DS\"]}, \"create_time\": \"2023-03-24T13:40:06\", \"update_time\": null, \"online_time\": null}\n"
     ]
    }
   ],
   "source": [
    "url = base_url + \"/kylin/api/ad_setting/stream/1\"\n",
    "response = requests.request(\"GET\", url, headers=headers)\n",
    "print(response.text)"
   ]
  },
  {
   "cell_type": "markdown",
   "id": "0019c3fb-8079-419c-8955-3497e7b34d72",
   "metadata": {},
   "source": [
    "## Post SettingID\n",
    "update Setting by id"
   ]
  },
  {
   "cell_type": "code",
   "execution_count": 10,
   "id": "67853a6a-ebfe-44a7-be33-daa549310dd5",
   "metadata": {},
   "outputs": [
    {
     "name": "stdout",
     "output_type": "stream",
     "text": [
      "{\"id\": 1, \"mode\": \"stream\", \"alias\": \"dask_currency_DELTA_6110\", \"setting\": {\"projectName\": \"adops\", \"logid\": \"currency\", \"montior\": \"DELTA\", \"auxiliary_field\": [\"SERVER\", \"ROLE_ID\", \"SRCTYPE\", \"MINUTE\", \"DS\"], \"ts_thd\": 10, \"value_thd\": 7000, \"aggregation\": \"sum\", \"op\": \"greater\", \"filter\": [[\"srctype\", \"=\", \"14\"]], \"name\": \"stream monitoring\"}, \"create_time\": \"2023-03-24T13:40:06\", \"update_time\": \"2023-03-24 14:06:23\", \"online_time\": null}\n"
     ]
    }
   ],
   "source": [
    "url = base_url + \"/kylin/api/ad_setting/stream/1\"\n",
    "payload = json.dumps({\n",
    "   \"projectName\": projectName,\n",
    "   \"logid\": logid,\n",
    "   \"montior\": \"DELTA\",\n",
    "   \"auxiliary_field\": [\n",
    "       \"SERVER\",\n",
    "       \"ROLE_ID\",\n",
    "       \"SRCTYPE\",\n",
    "       \"MINUTE\",\n",
    "       \"DS\"\n",
    "   ],\n",
    "   \"ts_thd\": 10,\n",
    "   \"value_thd\": 7000,\n",
    "   \"aggregation\": \"sum\",\n",
    "   \"op\": \"greater\",\n",
    "   \"filter\": [\n",
    "      [\n",
    "           \"srctype\",\n",
    "           \"=\",\n",
    "           \"14\"\n",
    "       ]\n",
    "   ],\n",
    "   \"name\": \"stream monitoring\"\n",
    "})\n",
    "response = requests.request(\"POST\", url, headers=headers, data=payload)\n",
    "print(response.text)"
   ]
  },
  {
   "cell_type": "markdown",
   "id": "ad52ad6c-c86f-41be-b0b4-3c58b72b2bd5",
   "metadata": {},
   "source": [
    "## Delete SettingID\n",
    "delete setting by id"
   ]
  },
  {
   "cell_type": "code",
   "execution_count": null,
   "id": "a28e66ef-7667-4e4f-9ddb-652f95f8dc7d",
   "metadata": {},
   "outputs": [],
   "source": [
    "url = base_url + \"/kylin/api/ad_setting/stream/2\"\n",
    "response = requests.request(\"DELETE\", url)\n",
    "print(response.text)"
   ]
  },
  {
   "cell_type": "markdown",
   "id": "23d070bb-dd95-4177-b965-b197e75558a4",
   "metadata": {},
   "source": [
    "## Post Dask\n",
    "dask application online"
   ]
  },
  {
   "cell_type": "code",
   "execution_count": 12,
   "id": "249806ce-3a67-430c-92e1-df879f455b13",
   "metadata": {
    "tags": []
   },
   "outputs": [
    {
     "name": "stdout",
     "output_type": "stream",
     "text": [
      "{\"id\": 1, \"mode\": \"stream\", \"alias\": \"dask_currency_DELTA_6110\", \"setting\": {\"op\": \"greater\", \"name\": \"stream monitoring\", \"logid\": \"currency\", \"filter\": [[\"srctype\", \"=\", \"14\"]], \"ts_thd\": 10, \"montior\": \"DELTA\", \"value_thd\": 7000, \"aggregation\": \"sum\", \"projectName\": \"adops\", \"auxiliary_field\": [\"SERVER\", \"ROLE_ID\", \"SRCTYPE\", \"MINUTE\", \"DS\"]}, \"create_time\": \"2023-03-24T13:40:06\", \"update_time\": \"2023-03-24T14:06:23\", \"online_time\": \"2023-03-24 14:06:35\"}\n"
     ]
    }
   ],
   "source": [
    "url = base_url + \"/kylin/api/dask/1\"\n",
    "response = requests.request(\"POST\", url)\n",
    "print(response.text)"
   ]
  },
  {
   "cell_type": "markdown",
   "id": "a0db530b-aef2-462e-9fdc-72fdb325b498",
   "metadata": {},
   "source": [
    "## Delete Dask\n",
    "dask application offline"
   ]
  },
  {
   "cell_type": "code",
   "execution_count": 38,
   "id": "45a6edec-d617-4bbd-8a04-29736b97f5bb",
   "metadata": {},
   "outputs": [
    {
     "name": "stdout",
     "output_type": "stream",
     "text": [
      "{\"id\": 2, \"mode\": \"stream\", \"alias\": \"dask_currency_DELTA_6110\", \"setting\": {\"op\": \"greater\", \"name\": \"stream monitoring\", \"logid\": \"currency\", \"filter\": [[\"srctype\", \"=\", \"14\"]], \"ts_thd\": 10, \"montior\": \"DELTA\", \"value_thd\": 7000, \"aggregation\": \"sum\", \"projectName\": \"adops\", \"auxiliary_field\": [\"SERVER\", \"ROLE_ID\", \"SRCTYPE\", \"MINUTE\", \"DS\"]}, \"create_time\": \"2023-03-24T09:13:58\", \"update_time\": \"2023-03-24T09:18:29\", \"online_time\": null}\n"
     ]
    }
   ],
   "source": [
    "url = base_url + \"/kylin/api/dask/2\"\n",
    "response = requests.request(\"DELETE\", url)\n",
    "print(response.text)"
   ]
  },
  {
   "cell_type": "code",
   "execution_count": null,
   "id": "8438fbc2-38cc-4581-9b52-cdafecea3e13",
   "metadata": {},
   "outputs": [],
   "source": []
  }
 ],
 "metadata": {
  "kernelspec": {
   "display_name": "Python 3 (ipykernel)",
   "language": "python",
   "name": "python3"
  },
  "language_info": {
   "codemirror_mode": {
    "name": "ipython",
    "version": 3
   },
   "file_extension": ".py",
   "mimetype": "text/x-python",
   "name": "python",
   "nbconvert_exporter": "python",
   "pygments_lexer": "ipython3",
   "version": "3.9.2"
  }
 },
 "nbformat": 4,
 "nbformat_minor": 5
}
