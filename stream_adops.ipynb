{
 "cells": [
  {
   "cell_type": "markdown",
   "id": "337b7ae6-b2b7-4081-94d0-b388d366a49f",
   "metadata": {},
   "source": [
    "## Kylin and AD Setting\n",
    "User interaction with kylin precomputation, anomaly detection configuration"
   ]
  },
  {
   "cell_type": "code",
   "execution_count": 4,
   "id": "02f328fd-a5d4-4106-a7aa-bb0ae28cfa3a",
   "metadata": {},
   "outputs": [],
   "source": [
    "import requests\n",
    "import json\n",
    "import os\n",
    "\n",
    "base_url = \"http://localhost:5000\"\n",
    "headers = {'Content-Type': 'application/json'}\n",
    "projectName = \"adops\""
   ]
  },
  {
   "cell_type": "markdown",
   "id": "bf0001d4-d162-4a43-a731-50dde2549180",
   "metadata": {},
   "source": [
    "## CUBES\n",
    "list cubes of current kylin project"
   ]
  },
  {
   "cell_type": "code",
   "execution_count": 5,
   "id": "8aaa9184-9d4f-4f49-8261-85a2a270d44d",
   "metadata": {},
   "outputs": [
    {
     "data": {
      "text/plain": [
       "{'currency': [['2023-02-01 00:00:00', '2023-04-01 00:00:00']]}"
      ]
     },
     "execution_count": 5,
     "metadata": {},
     "output_type": "execute_result"
    }
   ],
   "source": [
    "url = base_url + f\"/kylin/api/cubes?projectName={projectName}\"\n",
    "response = requests.request(\"GET\", url, headers=headers)\n",
    "cubes = json.loads(response.text)\n",
    "cubes"
   ]
  },
  {
   "cell_type": "markdown",
   "id": "6e07a5e2-8a10-4644-9f7d-174a4b309d5d",
   "metadata": {},
   "source": [
    "## Cube Descriptor\n",
    "dimensions and measures"
   ]
  },
  {
   "cell_type": "code",
   "execution_count": 6,
   "id": "2b822931-615f-438b-8e17-c3d41ddbc170",
   "metadata": {},
   "outputs": [
    {
     "data": {
      "text/plain": [
       "'{\"dimensions\": [\"SERVER\", \"ROLE_ID\", \"SRCTYPE\", \"MINUTE\", \"DS\"], \"measures\": [\"DELTA\"]}'"
      ]
     },
     "execution_count": 6,
     "metadata": {},
     "output_type": "execute_result"
    }
   ],
   "source": [
    "logid = \"currency\"\n",
    "url = base_url + f\"/kylin/api/cube_desc?projectName={projectName}&logid={logid}\"\n",
    "response = requests.request(\"GET\", url, headers=headers)\n",
    "cube_descri = response.text\n",
    "cube_descri"
   ]
  },
  {
   "cell_type": "markdown",
   "id": "80f2d2e7-547c-4ac3-a799-4096ac41bb82",
   "metadata": {},
   "source": [
    "## Cube Col\n",
    "Possible values for the field"
   ]
  },
  {
   "cell_type": "code",
   "execution_count": 7,
   "id": "26603e81-af5f-408e-8f7c-ce2485478163",
   "metadata": {},
   "outputs": [
    {
     "name": "stdout",
     "output_type": "stream",
     "text": [
      "{\"results\": [[3], [4], [7], [10], [14], [31], [40], [43], [44], [58], [65], [91], [113], [117], [120], [121], [125], [127], [148], [152], [153], [169], [181], [207], [221], [222], [224], [239], [251], [255], [262], [272], [275], [285], [286], [303], [365], [367], [370], [377], [386], [393], [410], [418], [419], [422], [437], [438], [439]], \"columns\": [[\"srctype\", \"integer\"]]}\n"
     ]
    }
   ],
   "source": [
    "colName = \"SRCTYPE\"\n",
    "url = base_url + f\"/kylin/api/cube_enum?projectName={projectName}&logid={logid}&colName={colName}\"\n",
    "response = requests.request(\"GET\", url, headers=headers)\n",
    "print(response.text)"
   ]
  },
  {
   "cell_type": "markdown",
   "id": "916eb79c-4ff7-4eff-8342-5d340a4a799f",
   "metadata": {
    "tags": []
   },
   "source": [
    "## Stream Kylin Recomd\n",
    "\n",
    "- montior: field\n",
    "- auxiliary_field: Auxiliary fields to locate the cause of the exception\n",
    "- ts_thd: time window (minute)\n",
    "- filter: just like sql where"
   ]
  },
  {
   "cell_type": "code",
   "execution_count": 51,
   "id": "cb8e3222-dd27-414d-8023-6f24b00a1eb3",
   "metadata": {
    "tags": []
   },
   "outputs": [
    {
     "data": {
      "text/plain": [
       "{'results': [[5297.185250000008]], 'columns': [['kylin_recomd', 'float']]}"
      ]
     },
     "execution_count": 51,
     "metadata": {},
     "output_type": "execute_result"
    }
   ],
   "source": [
    "url = base_url + \"/kylin/api/kylin_recomd/stream\"\n",
    "payload = json.dumps({\n",
    "   \"projectName\": projectName,\n",
    "   \"logid\": logid,\n",
    "   \"montior\": \"DELTA\",\n",
    "   \"auxiliary_field\": [\n",
    "       \"SERVER\",\n",
    "       \"ROLE_ID\",\n",
    "       \"SRCTYPE\",\n",
    "       \"MINUTE\",\n",
    "       \"DS\"\n",
    "   ],\n",
    "   \"ts_thd\": 10,\n",
    "   \"aggregation\": \"sum\",\n",
    "   \"op\": \"greater\",\n",
    "   \"filter\": [\n",
    "      [\n",
    "           \"srctype\",\n",
    "           \"=\",\n",
    "           \"14\"\n",
    "       ]\n",
    "   ],\n",
    "   \"name\": \"stream monitoring\"\n",
    "})\n",
    "response = requests.request(\"POST\", url, headers=headers, data=payload)\n",
    "kylin_recomd = json.loads(response.text)\n",
    "kylin_recomd"
   ]
  },
  {
   "cell_type": "markdown",
   "id": "3382fbe7-79ca-44f0-ad67-e3a85bc511d1",
   "metadata": {
    "tags": []
   },
   "source": [
    "## Stream Setting Save"
   ]
  },
  {
   "cell_type": "code",
   "execution_count": 52,
   "id": "7c2095f2-1ed6-41ce-93d6-c7dfb17afcb0",
   "metadata": {
    "tags": []
   },
   "outputs": [
    {
     "name": "stdout",
     "output_type": "stream",
     "text": [
      "{\"id\": 2, \"mode\": \"stream\", \"alias\": \"dask_currency_DELTA_6110\", \"setting\": {\"projectName\": \"adops\", \"logid\": \"currency\", \"montior\": \"DELTA\", \"auxiliary_field\": [\"SERVER\", \"ROLE_ID\", \"SRCTYPE\", \"MINUTE\", \"DS\"], \"ts_thd\": 10, \"value_thd\": 6110, \"aggregation\": \"sum\", \"op\": \"greater\", \"filter\": [[\"srctype\", \"=\", \"14\"]], \"name\": \"stream monitoring\"}, \"create_time\": \"2023-07-13 08:07:34\", \"update_time\": null, \"online_time\": null}\n"
     ]
    }
   ],
   "source": [
    "url = base_url + \"/kylin/api/ad_setting/stream\"\n",
    "payload = json.dumps({\n",
    "   \"projectName\": projectName,\n",
    "   \"logid\": logid,\n",
    "   \"montior\": \"DELTA\",\n",
    "   \"auxiliary_field\": [\n",
    "       \"SERVER\",\n",
    "       \"ROLE_ID\",\n",
    "       \"SRCTYPE\",\n",
    "       \"MINUTE\",\n",
    "       \"DS\"\n",
    "   ],\n",
    "   \"ts_thd\": 10,\n",
    "   \"value_thd\": 6110,\n",
    "   \"aggregation\": \"sum\",\n",
    "   \"op\": \"greater\",\n",
    "   \"filter\": [\n",
    "      [\n",
    "           \"srctype\",\n",
    "           \"=\",\n",
    "           \"14\"\n",
    "       ]\n",
    "   ],\n",
    "   \"name\": \"stream monitoring\"\n",
    "})\n",
    "response = requests.request(\"POST\", url, headers=headers, data=payload)\n",
    "print(response.text)"
   ]
  },
  {
   "cell_type": "markdown",
   "id": "a3b5e8c5-67cf-4f5a-a012-c741fea1265f",
   "metadata": {},
   "source": [
    "## Setting Project\n",
    "settings of current project"
   ]
  },
  {
   "cell_type": "code",
   "execution_count": 32,
   "id": "ad38f08a-279b-4ab1-ac40-30dbdbefa5cf",
   "metadata": {},
   "outputs": [
    {
     "name": "stdout",
     "output_type": "stream",
     "text": [
      "[{\"id\": 2, \"mode\": \"stream\", \"alias\": \"dask_currency_DELTA_6110\", \"setting\": {\"op\": \"greater\", \"name\": \"stream monitoring\", \"logid\": \"currency\", \"filter\": [[\"srctype\", \"=\", \"14\"]], \"ts_thd\": 10, \"montior\": \"DELTA\", \"value_thd\": 6110, \"aggregation\": \"sum\", \"projectName\": \"adops\", \"auxiliary_field\": [\"SERVER\", \"ROLE_ID\", \"SRCTYPE\", \"MINUTE\", \"DS\"]}, \"create_time\": \"2023-07-12T08:42:18\", \"update_time\": null, \"online_time\": \"2023-07-12T11:20:30\"}]\n"
     ]
    }
   ],
   "source": [
    "url = base_url + f\"/kylin/api/ad_setting?projectName={projectName}\"\n",
    "response = requests.request(\"GET\", url, headers=headers)\n",
    "print(response.text)"
   ]
  },
  {
   "cell_type": "markdown",
   "id": "b9f56727-a3f0-4565-8faa-04d548d2d0f1",
   "metadata": {},
   "source": [
    "## Get SettingID\n",
    "infos of SettingID"
   ]
  },
  {
   "cell_type": "code",
   "execution_count": 35,
   "id": "2684a398-25ce-41b8-89bf-b120226c00dc",
   "metadata": {},
   "outputs": [
    {
     "name": "stdout",
     "output_type": "stream",
     "text": [
      "{\"id\": 3, \"mode\": \"stream\", \"alias\": \"dask_currency_DELTA_6110\", \"setting\": {\"op\": \"greater\", \"name\": \"stream monitoring\", \"logid\": \"currency\", \"filter\": [[\"srctype\", \"=\", \"14\"]], \"ts_thd\": 10, \"montior\": \"DELTA\", \"value_thd\": 6110, \"aggregation\": \"sum\", \"projectName\": \"adops\", \"auxiliary_field\": [\"SERVER\", \"ROLE_ID\", \"SRCTYPE\", \"MINUTE\", \"DS\"]}, \"create_time\": \"2023-07-12T08:42:18\", \"update_time\": null, \"online_time\": null}\n"
     ]
    }
   ],
   "source": [
    "url = base_url + \"/kylin/api/ad_setting/stream/3\"\n",
    "response = requests.request(\"GET\", url, headers=headers)\n",
    "print(response.text)"
   ]
  },
  {
   "cell_type": "markdown",
   "id": "0019c3fb-8079-419c-8955-3497e7b34d72",
   "metadata": {},
   "source": [
    "## Post SettingID\n",
    "update Setting by id"
   ]
  },
  {
   "cell_type": "code",
   "execution_count": 17,
   "id": "67853a6a-ebfe-44a7-be33-daa549310dd5",
   "metadata": {},
   "outputs": [
    {
     "name": "stdout",
     "output_type": "stream",
     "text": [
      "{\"id\": 1, \"mode\": \"stream\", \"alias\": \"dask_currency_DELTA_6110\", \"setting\": {\"projectName\": \"adops\", \"logid\": \"currency\", \"montior\": \"DELTA\", \"auxiliary_field\": [\"SERVER\", \"ROLE_ID\", \"SRCTYPE\", \"MINUTE\", \"DS\"], \"ts_thd\": 10, \"value_thd\": 7000, \"aggregation\": \"sum\", \"op\": \"greater\", \"filter\": [[\"srctype\", \"=\", \"14\"]], \"name\": \"stream monitoring\"}, \"create_time\": \"2023-07-12T08:42:18\", \"update_time\": \"2023-07-12 11:18:14\", \"online_time\": null}\n"
     ]
    }
   ],
   "source": [
    "url = base_url + \"/kylin/api/ad_setting/stream/1\"\n",
    "payload = json.dumps({\n",
    "   \"projectName\": projectName,\n",
    "   \"logid\": logid,\n",
    "   \"montior\": \"DELTA\",\n",
    "   \"auxiliary_field\": [\n",
    "       \"SERVER\",\n",
    "       \"ROLE_ID\",\n",
    "       \"SRCTYPE\",\n",
    "       \"MINUTE\",\n",
    "       \"DS\"\n",
    "   ],\n",
    "   \"ts_thd\": 10,\n",
    "   \"value_thd\": 7000,\n",
    "   \"aggregation\": \"sum\",\n",
    "   \"op\": \"greater\",\n",
    "   \"filter\": [\n",
    "      [\n",
    "           \"srctype\",\n",
    "           \"=\",\n",
    "           \"14\"\n",
    "       ]\n",
    "   ],\n",
    "   \"name\": \"stream monitoring\"\n",
    "})\n",
    "response = requests.request(\"POST\", url, headers=headers, data=payload)\n",
    "print(response.text)"
   ]
  },
  {
   "cell_type": "markdown",
   "id": "ad52ad6c-c86f-41be-b0b4-3c58b72b2bd5",
   "metadata": {},
   "source": [
    "## Delete SettingID\n",
    "delete setting by id"
   ]
  },
  {
   "cell_type": "code",
   "execution_count": 39,
   "id": "a28e66ef-7667-4e4f-9ddb-652f95f8dc7d",
   "metadata": {},
   "outputs": [
    {
     "name": "stdout",
     "output_type": "stream",
     "text": [
      "null\n"
     ]
    }
   ],
   "source": [
    "url = base_url + \"/kylin/api/ad_setting/stream/3\"\n",
    "response = requests.request(\"DELETE\", url)\n",
    "print(response.text)"
   ]
  },
  {
   "cell_type": "markdown",
   "id": "23d070bb-dd95-4177-b965-b197e75558a4",
   "metadata": {},
   "source": [
    "## Post Dask\n",
    "dask application online"
   ]
  },
  {
   "cell_type": "code",
   "execution_count": 59,
   "id": "249806ce-3a67-430c-92e1-df879f455b13",
   "metadata": {
    "tags": []
   },
   "outputs": [
    {
     "name": "stdout",
     "output_type": "stream",
     "text": [
      "{\"id\": 2, \"mode\": \"stream\", \"alias\": \"dask_currency_DELTA_6110\", \"setting\": {\"op\": \"greater\", \"name\": \"stream monitoring\", \"logid\": \"currency\", \"filter\": [[\"srctype\", \"=\", \"14\"]], \"ts_thd\": 10, \"montior\": \"DELTA\", \"value_thd\": 6110, \"aggregation\": \"sum\", \"projectName\": \"adops\", \"auxiliary_field\": [\"SERVER\", \"ROLE_ID\", \"SRCTYPE\", \"MINUTE\", \"DS\"]}, \"create_time\": \"2023-07-13T08:07:34\", \"update_time\": null, \"online_time\": \"2023-07-13 11:28:43\"}\n"
     ]
    }
   ],
   "source": [
    "url = base_url + \"/kylin/api/dask/2\"\n",
    "response = requests.request(\"POST\", url)\n",
    "print(response.text)"
   ]
  },
  {
   "cell_type": "markdown",
   "id": "a0db530b-aef2-462e-9fdc-72fdb325b498",
   "metadata": {},
   "source": [
    "## Delete Dask\n",
    "dask application offline"
   ]
  },
  {
   "cell_type": "code",
   "execution_count": 58,
   "id": "45a6edec-d617-4bbd-8a04-29736b97f5bb",
   "metadata": {},
   "outputs": [
    {
     "name": "stdout",
     "output_type": "stream",
     "text": [
      "{\"id\": 2, \"mode\": \"stream\", \"alias\": \"dask_currency_DELTA_6110\", \"setting\": {\"op\": \"greater\", \"name\": \"stream monitoring\", \"logid\": \"currency\", \"filter\": [[\"srctype\", \"=\", \"14\"]], \"ts_thd\": 10, \"montior\": \"DELTA\", \"value_thd\": 6110, \"aggregation\": \"sum\", \"projectName\": \"adops\", \"auxiliary_field\": [\"SERVER\", \"ROLE_ID\", \"SRCTYPE\", \"MINUTE\", \"DS\"]}, \"create_time\": \"2023-07-13T08:07:34\", \"update_time\": null, \"online_time\": null}\n"
     ]
    }
   ],
   "source": [
    "url = base_url + \"/kylin/api/dask/2\"\n",
    "response = requests.request(\"DELETE\", url)\n",
    "print(response.text)"
   ]
  },
  {
   "cell_type": "markdown",
   "id": "61f89be2-ff5d-424e-9df3-b54fed858977",
   "metadata": {},
   "source": [
    "## Model Save\n",
    "model save to mysql"
   ]
  },
  {
   "cell_type": "code",
   "execution_count": 18,
   "id": "2f1d6843-9209-448b-b42b-93b12e988f1a",
   "metadata": {},
   "outputs": [
    {
     "name": "stdout",
     "output_type": "stream",
     "text": [
      "{\"id\": 3, \"alias\": \"adops_d1_2023-07-13_00:00:00\", \"endpoint\": \"localhost:9080\", \"model_path\": \"/work/adops/saved_models/xgbmodel.json\", \"model_type\": \"xgboost\", \"database\": \"adops\", \"deployment\": \"d1\", \"schema\": [[\"ip\", \"int\"], [\"app\", \"int\"], [\"device\", \"int\"], [\"os\", \"int\"], [\"channel\", \"int\"], [\"click_time\", \"timestamp\"], [\"attributed_time\", \"timestamp\"], [\"is_attributed\", \"int\"]], \"port\": \"8881\", \"create_time\": \"2023-07-13 03:28:01\", \"update_time\": null, \"online_time\": null}\n"
     ]
    }
   ],
   "source": [
    "url = base_url + \"/kylin/api/model_setting\"\n",
    "modelload = json.dumps({\n",
    "    \"endpoint\":\"localhost:9080\",\n",
    "    \"model_path\":\"/work/adops/saved_models/xgbmodel.json\",\n",
    "    \"model_type\":\"xgboost\",\n",
    "    \"database\":\"adops\",\n",
    "    \"deployment\":\"d1\",\n",
    "    \"schema\":[\n",
    "        [\"ip\",\"int\"], \n",
    "        [\"app\",\"int\"], \n",
    "        [\"device\",\"int\"], \n",
    "        [\"os\",\"int\"], \n",
    "        [\"channel\",\"int\"], \n",
    "        [\"click_time\", \"timestamp\"],\n",
    "        [\"attributed_time\", \"timestamp\"],\n",
    "        [\"is_attributed\", \"int\"]\n",
    "    ],\n",
    "    \"port\":\"8881\",\n",
    "})\n",
    "response = requests.request(\"POST\", url, headers=headers, data=modelload)\n",
    "print(response.text)"
   ]
  },
  {
   "cell_type": "markdown",
   "id": "5151441f-3b98-414d-9db5-b38b3bdb1bad",
   "metadata": {},
   "source": [
    "## Get ModelID\n",
    "infos of ModelID"
   ]
  },
  {
   "cell_type": "code",
   "execution_count": 20,
   "id": "14fb74b9-9293-4e4f-bd11-6bc3da5f694a",
   "metadata": {},
   "outputs": [
    {
     "name": "stdout",
     "output_type": "stream",
     "text": [
      "{\"id\": 2, \"alias\": \"adops_d1_2023-07-13_00:00:00\", \"endpoint\": \"localhost:9080\", \"model_path\": \"/work/adops/saved_models/xgbmodel.json\", \"model_type\": \"xgboost\", \"database\": \"adops\", \"deployment\": \"d1\", \"schema\": [[\"ip\", \"int\"], [\"app\", \"int\"], [\"device\", \"int\"], [\"os\", \"int\"], [\"channel\", \"int\"], [\"click_time\", \"timestamp\"], [\"attributed_time\", \"timestamp\"], [\"is_attributed\", \"int\"]], \"port\": \"8881\", \"create_time\": \"2023-07-13T03:28:01\", \"update_time\": null, \"online_time\": null}\n"
     ]
    }
   ],
   "source": [
    "url = base_url + \"/kylin/api/model_setting/2\"\n",
    "response = requests.request(\"GET\", url, headers=headers)\n",
    "print(response.text)"
   ]
  },
  {
   "cell_type": "markdown",
   "id": "88a7c33c-fb1b-4ca7-a9e6-33dd010a4d9f",
   "metadata": {},
   "source": [
    "## Post ModelID\n",
    "update Model by id"
   ]
  },
  {
   "cell_type": "code",
   "execution_count": 31,
   "id": "2dde15a6-8395-4ad3-822e-18d8b9765632",
   "metadata": {},
   "outputs": [
    {
     "name": "stdout",
     "output_type": "stream",
     "text": [
      "{\"id\": 2, \"alias\": \"adops_d1_2023-07-13_00:00:00\", \"endpoint\": \"localhost:9080\", \"model_path\": \"/work/adops/saved_models/xgbmodel.json\", \"model_type\": \"xgboost\", \"database\": \"adops\", \"deployment\": \"d1\", \"schema\": [[\"ip\", \"int\"], [\"app\", \"int\"], [\"device\", \"int\"], [\"os\", \"int\"], [\"channel\", \"int\"], [\"click_time\", \"timestamp\"], [\"attributed_time\", \"timestamp\"], [\"is_attributed\", \"int\"]], \"port\": \"8882\", \"create_time\": \"2023-07-13T03:28:01\", \"update_time\": \"2023-07-13 06:56:34\", \"online_time\": null}\n"
     ]
    }
   ],
   "source": [
    "url = base_url + \"/kylin/api/model_setting/2\"\n",
    "modelload = json.dumps({\n",
    "    \"endpoint\":\"localhost:9080\",\n",
    "    \"model_path\":\"/work/adops/saved_models/xgbmodel.json\",\n",
    "    \"model_type\":\"xgboost\",\n",
    "    \"database\":\"adops\",\n",
    "    \"deployment\":\"d1\",\n",
    "    \"schema\":[\n",
    "        [\"ip\",\"int\"], \n",
    "        [\"app\",\"int\"], \n",
    "        [\"device\",\"int\"], \n",
    "        [\"os\",\"int\"], \n",
    "        [\"channel\",\"int\"], \n",
    "        [\"click_time\", \"timestamp\"],\n",
    "        [\"attributed_time\", \"timestamp\"],\n",
    "        [\"is_attributed\", \"int\"]\n",
    "    ],\n",
    "    \"port\":\"8882\",\n",
    "})\n",
    "response = requests.request(\"POST\", url, headers=headers, data=modelload)\n",
    "print(response.text)"
   ]
  },
  {
   "cell_type": "markdown",
   "id": "d1780c1c-2019-4bed-b1cb-4d7c7ba6af63",
   "metadata": {},
   "source": [
    "## Model Deployment\n",
    "model deployment online"
   ]
  },
  {
   "cell_type": "code",
   "execution_count": 45,
   "id": "127d446b-dbfb-4635-bc43-bcb58e122d34",
   "metadata": {},
   "outputs": [
    {
     "name": "stdout",
     "output_type": "stream",
     "text": [
      "{\"id\": 2, \"alias\": \"adops_d1_2023-07-13_00:00:00\", \"endpoint\": \"localhost:9080\", \"model_path\": \"/work/adops/saved_models/xgbmodel.json\", \"model_type\": \"xgboost\", \"database\": \"adops\", \"deployment\": \"d1\", \"schema\": [\"ip:int\", \"app:int\", \"device:int\", \"os:int\", \"channel:int\", \"click_time:timestamp\", \"attributed_time:timestamp\", \"is_attributed:int\"], \"port\": \"8882\", \"create_time\": \"2023-07-13T03:28:01\", \"update_time\": \"2023-07-13T06:56:34\", \"online_time\": \"2023-07-13 08:07:55\"}\n"
     ]
    }
   ],
   "source": [
    "url = base_url + \"/kylin/api/model/2\"\n",
    "response = requests.request(\"POST\", url)\n",
    "print(response.text)"
   ]
  },
  {
   "cell_type": "markdown",
   "id": "8772a071-05ee-4e4d-8be5-3e3aa9aecdd0",
   "metadata": {},
   "source": [
    "## Dask Monitor\n",
    "monitor kafka data using model"
   ]
  },
  {
   "cell_type": "code",
   "execution_count": 57,
   "id": "86dc7d70-4bd9-4141-9f47-4fb5bda008ed",
   "metadata": {},
   "outputs": [
    {
     "name": "stdout",
     "output_type": "stream",
     "text": [
      "{\"id\": 2, \"alias\": \"adops_d1_2023-07-13_00:00:00\", \"endpoint\": \"localhost:9080\", \"model_path\": \"/work/adops/saved_models/xgbmodel.json\", \"model_type\": \"xgboost\", \"database\": \"adops\", \"deployment\": \"d1\", \"schema\": [[\"ip\", \"int\"], [\"app\", \"int\"], [\"device\", \"int\"], [\"os\", \"int\"], [\"channel\", \"int\"], [\"click_time\", \"timestamp\"], [\"attributed_time\", \"timestamp\"], [\"is_attributed\", \"int\"]], \"port\": \"8882\", \"create_time\": \"2023-07-13T03:28:01\", \"update_time\": \"2023-07-13T06:56:34\", \"online_time\": \"2023-07-13 11:26:18\"}\n"
     ]
    }
   ],
   "source": [
    "url = base_url + \"/kylin/api/monitor/2\"\n",
    "topic = json.dumps({\n",
    "    \"topic\": \"xgadops\"\n",
    "})\n",
    "response = requests.request(\"POST\", url, headers=headers, data=topic)\n",
    "print(response.text)"
   ]
  },
  {
   "cell_type": "markdown",
   "id": "5550c093-66df-41e1-a093-0924395215b7",
   "metadata": {},
   "source": [
    "## Delete Monitor\n",
    "monitor offline"
   ]
  },
  {
   "cell_type": "code",
   "execution_count": 56,
   "id": "aa028855-d2c6-4ba9-82d7-2b279dd1d87e",
   "metadata": {},
   "outputs": [
    {
     "name": "stdout",
     "output_type": "stream",
     "text": [
      "{\"id\": 2, \"alias\": \"adops_d1_2023-07-13_00:00:00\", \"endpoint\": \"localhost:9080\", \"model_path\": \"/work/adops/saved_models/xgbmodel.json\", \"model_type\": \"xgboost\", \"database\": \"adops\", \"deployment\": \"d1\", \"schema\": [[\"ip\", \"int\"], [\"app\", \"int\"], [\"device\", \"int\"], [\"os\", \"int\"], [\"channel\", \"int\"], [\"click_time\", \"timestamp\"], [\"attributed_time\", \"timestamp\"], [\"is_attributed\", \"int\"]], \"port\": \"8882\", \"create_time\": \"2023-07-13T03:28:01\", \"update_time\": \"2023-07-13T06:56:34\", \"online_time\": \"2023-07-13T09:19:16\"}\n"
     ]
    }
   ],
   "source": [
    "url = base_url + \"/kylin/api/monitor/2\"\n",
    "response = requests.request(\"DELETE\", url)\n",
    "print(response.text)"
   ]
  },
  {
   "cell_type": "code",
   "execution_count": null,
   "id": "f4957c48-4b82-45ee-a9ac-5a13de015eb9",
   "metadata": {},
   "outputs": [],
   "source": []
  }
 ],
 "metadata": {
  "kernelspec": {
   "display_name": "Python 3 (ipykernel)",
   "language": "python",
   "name": "python3"
  },
  "language_info": {
   "codemirror_mode": {
    "name": "ipython",
    "version": 3
   },
   "file_extension": ".py",
   "mimetype": "text/x-python",
   "name": "python",
   "nbconvert_exporter": "python",
   "pygments_lexer": "ipython3",
   "version": "3.9.2"
  }
 },
 "nbformat": 4,
 "nbformat_minor": 5
}
