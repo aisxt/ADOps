{
 "cells": [
  {
   "cell_type": "markdown",
   "id": "a1aa34a7-a25f-4e78-9a52-7029335ec8d7",
   "metadata": {},
   "source": [
    "## DataFrame to parquet"
   ]
  },
  {
   "cell_type": "code",
   "execution_count": null,
   "id": "01a2776f-1b5d-4707-83c9-e265b8f387d3",
   "metadata": {},
   "outputs": [],
   "source": [
    "import os\n",
    "import csv\n",
    "import pandas as pd"
   ]
  },
  {
   "cell_type": "code",
   "execution_count": null,
   "id": "fc1c4ef9-6298-4843-9f36-4a55f0db6b6a",
   "metadata": {},
   "outputs": [],
   "source": [
    "df = pd.read_csv(\n",
    "    \"./data/currency_encode.csv\", header=0,\n",
    "    quotechar='\"', quoting=csv.QUOTE_ALL, sep=\",\"\n",
    ")\n",
    "df = df.astype({\n",
    "    \"server\": \"string\", \"role_id\": \"string\",\n",
    "    \"srctype\": \"int64\", \"delta\": \"int64\", \"minute\":\"string\"})\n",
    "df"
   ]
  },
  {
   "cell_type": "code",
   "execution_count": null,
   "id": "7462ce37-3e11-4673-9687-577138a4d829",
   "metadata": {
    "tags": []
   },
   "outputs": [],
   "source": [
    "p_path = \"/work/adops/data/currency_encode.snappy.parquet\"\n",
    "df.drop(columns=[\"ds\"], inplace=True)\n",
    "df.to_parquet(p_path)"
   ]
  },
  {
   "cell_type": "markdown",
   "id": "a1cdea85-524f-42b9-ac36-8c48991f4c74",
   "metadata": {},
   "source": [
    "## Sqlalchemy and Magic Function"
   ]
  },
  {
   "cell_type": "code",
   "execution_count": null,
   "id": "b1fccac6-d36d-4ea5-8071-eb8371bd4905",
   "metadata": {
    "tags": []
   },
   "outputs": [],
   "source": [
    "import os\n",
    "import openmldb\n",
    "import sqlalchemy as db\n",
    "\n",
    "host, port = \"localhost\", 7527\n",
    "engine = db.create_engine(f\"openmldb:///?host={host}&port={port}\")\n",
    "connection = engine.connect()\n",
    "\n",
    "db = openmldb.dbapi.connect(host=host, port=port)\n",
    "openmldb.sql_magic.register(db)"
   ]
  },
  {
   "cell_type": "markdown",
   "id": "e0b1864e-2fc9-41c8-acf4-cbeb3d89a562",
   "metadata": {
    "tags": []
   },
   "source": [
    "## Create db and table"
   ]
  },
  {
   "cell_type": "code",
   "execution_count": null,
   "id": "0bb880ac-dda1-4537-a770-8177f354dfcc",
   "metadata": {
    "tags": []
   },
   "outputs": [],
   "source": [
    "try:\n",
    "    db_name, table_name = \"adops\", \"currency\"\n",
    "    connection.execute(f\"CREATE DATABASE {db_name}\")\n",
    "    connection.execute(f\"USE {db_name}\")\n",
    "    connection.execute(f\"CREATE TABLE {table_name}(server string, role_id string, srctype bigint, delta bigint, minute string);\")\n",
    "except Exception as e:\n",
    "    print(e)"
   ]
  },
  {
   "cell_type": "markdown",
   "id": "ab6980b8-b687-4f24-bfd9-a92dc861e86f",
   "metadata": {},
   "source": [
    "## Load offline data"
   ]
  },
  {
   "cell_type": "raw",
   "id": "b42d27e8-78fb-45c0-93af-ce5aa273a6fa",
   "metadata": {},
   "source": [
    "# bash\n",
    "/work/openmldb/bin/openmldb --zk_cluster=127.0.0.1:2181 --zk_root_path=/openmldb --role=sql_client\n",
    "\n",
    "USE adops;\n",
    "SET @@sync_job=true;\n",
    "SET @@execute_mode='offline';\n",
    "LOAD DATA INFILE \"/work/adops/data/currency_encode.snappy.parquet\"\n",
    "INTO TABLE currency options(format='parquet', header=true, mode='append');\n",
    "\n",
    "show jobs;\n",
    "show joblog id;\n",
    "\n",
    "select * from currency limit 10;"
   ]
  },
  {
   "cell_type": "markdown",
   "id": "09c5b2b6-53c4-4d68-80bf-5237204400b4",
   "metadata": {},
   "source": [
    "## Drop table and db"
   ]
  },
  {
   "cell_type": "code",
   "execution_count": null,
   "id": "18e43d5e-24c8-4a09-a230-dce72c5caafe",
   "metadata": {},
   "outputs": [],
   "source": [
    "try:\n",
    "    connection.execute(f\"DROP TABLE {table_name}\")\n",
    "    connection.execute(f\"DROP DATABASE {db_name}\")\n",
    "except Exception as e:\n",
    "    print(e)"
   ]
  },
  {
   "cell_type": "code",
   "execution_count": null,
   "id": "9c2e914c-61fb-483f-810a-ee2c3efe525b",
   "metadata": {},
   "outputs": [],
   "source": []
  }
 ],
 "metadata": {
  "kernelspec": {
   "display_name": "Python 3 (ipykernel)",
   "language": "python",
   "name": "python3"
  },
  "language_info": {
   "codemirror_mode": {
    "name": "ipython",
    "version": 3
   },
   "file_extension": ".py",
   "mimetype": "text/x-python",
   "name": "python",
   "nbconvert_exporter": "python",
   "pygments_lexer": "ipython3",
   "version": "3.9.2"
  }
 },
 "nbformat": 4,
 "nbformat_minor": 5
}
